{
 "cells": [
  {
   "cell_type": "markdown",
   "metadata": {},
   "source": [
    "# 1. Import libraries and Load in Data"
   ]
  },
  {
   "cell_type": "code",
   "execution_count": 1,
   "metadata": {},
   "outputs": [],
   "source": [
    "#import libs\n",
    "import os, sys\n",
    "import numpy as np\n",
    "import pandas as pd\n",
    "import matplotlib.pyplot as plt\n",
    "import seaborn as sns\n",
    "%matplotlib inline"
   ]
  },
  {
   "cell_type": "code",
   "execution_count": 2,
   "metadata": {},
   "outputs": [],
   "source": [
    "#import my own written functions\n",
    "module_path = os.path.abspath(os.path.join('../src/'))\n",
    "if module_path not in sys.path:\n",
    "    sys.path.append(module_path)\n",
    "    \n",
    "import make_basetable\n",
    "import evaluation_model\n",
    "import make_model"
   ]
  },
  {
   "cell_type": "code",
   "execution_count": 3,
   "metadata": {},
   "outputs": [
    {
     "data": {
      "text/plain": [
       "[u'Patient_Care_Situation',\n",
       " u'Patient_Demographics',\n",
       " u'Patient_Previous_Conditions']"
      ]
     },
     "execution_count": 3,
     "metadata": {},
     "output_type": "execute_result"
    }
   ],
   "source": [
    "xl = pd.ExcelFile('../data/Hacking for impact_data.xlsx')\n",
    "xl.sheet_names"
   ]
  },
  {
   "cell_type": "code",
   "execution_count": 4,
   "metadata": {},
   "outputs": [],
   "source": [
    "#load in data\n",
    "df1 = pd.read_excel('../data/Hacking for impact_data.xlsx', sheet_name = 'Patient_Care_Situation')\n",
    "df2 = pd.read_excel('../data/Hacking for impact_data.xlsx', sheet_name = 'Patient_Demographics')\n",
    "df3 = pd.read_excel('../data/Hacking for impact_data.xlsx', sheet_name = 'Patient_Previous_Conditions')"
   ]
  },
  {
   "cell_type": "markdown",
   "metadata": {},
   "source": [
    "# 2. Check data & Feature Transformation and Engineering"
   ]
  },
  {
   "cell_type": "markdown",
   "metadata": {},
   "source": [
    "### Patient_Care_Situation"
   ]
  },
  {
   "cell_type": "code",
   "execution_count": 5,
   "metadata": {},
   "outputs": [
    {
     "data": {
      "text/plain": [
       "ID_Patient_Care_Situation     0\n",
       "Diagnosed_Condition           0\n",
       "ID_Patient                    0\n",
       "Treated_with_drugs           15\n",
       "Survived_1_year               0\n",
       "dtype: int64"
      ]
     },
     "execution_count": 5,
     "metadata": {},
     "output_type": "execute_result"
    }
   ],
   "source": [
    "#check if there is missing values\n",
    "df1.isnull().sum()"
   ]
  },
  {
   "cell_type": "code",
   "execution_count": 6,
   "metadata": {},
   "outputs": [],
   "source": [
    "#remove care situation variable because it's meaningless (it has no time indiciation)\n",
    "df1.drop('ID_Patient_Care_Situation', 1, inplace=True)\n",
    "\n",
    "#remove trailing and leading blanks from string column\n",
    "df1['Treated_with_drugs'] = df1['Treated_with_drugs'].str.strip()\n",
    "\n",
    "#put na to empty string\n",
    "df1['Treated_with_drugs'] = df1['Treated_with_drugs'].replace(np.nan, '', regex=True)\n",
    "\n",
    "#split each drug into distinct columns and make dummies for each drug\n",
    "drugs = df1['Treated_with_drugs'].str.split(' ',expand=True).stack().str.get_dummies().sum(level=0)\n",
    "\n",
    "#concat horizontally\n",
    "df1 = pd.concat([df1, drugs], axis = 1)\n",
    "\n",
    "#remove original col\n",
    "df1.drop('Treated_with_drugs', 1, inplace=True)\n",
    "\n",
    "#make feature: number of drugs taken\n",
    "df1['Number_of_drugs_taken'] = df1[['DX1', 'DX2', 'DX3', 'DX4', 'DX5', 'DX6']].sum(axis = 1)"
   ]
  },
  {
   "cell_type": "code",
   "execution_count": 7,
   "metadata": {},
   "outputs": [
    {
     "data": {
      "text/plain": [
       "False"
      ]
     },
     "execution_count": 7,
     "metadata": {},
     "output_type": "execute_result"
    }
   ],
   "source": [
    "#check if there is missing values\n",
    "df1.isnull().values.any()"
   ]
  },
  {
   "cell_type": "markdown",
   "metadata": {},
   "source": [
    "### Patient_Demographics"
   ]
  },
  {
   "cell_type": "code",
   "execution_count": 8,
   "metadata": {},
   "outputs": [
    {
     "data": {
      "text/plain": [
       "Patient_ID                  0\n",
       "Patient_Age                 0\n",
       "Patient_Body_Mass_Index     0\n",
       "Patient_Smoker              0\n",
       "Patient_Rural_Urban         0\n",
       "Patient_mental_condition    0\n",
       "dtype: int64"
      ]
     },
     "execution_count": 8,
     "metadata": {},
     "output_type": "execute_result"
    }
   ],
   "source": [
    "#check if there is missing values\n",
    "df2.isnull().sum()"
   ]
  },
  {
   "cell_type": "code",
   "execution_count": 9,
   "metadata": {},
   "outputs": [
    {
     "data": {
      "text/plain": [
       "NO            7103\n",
       "YES           5397\n",
       "Cannot say      15\n",
       "Name: Patient_Smoker, dtype: int64"
      ]
     },
     "execution_count": 9,
     "metadata": {},
     "output_type": "execute_result"
    }
   ],
   "source": [
    "df2.Patient_Smoker.value_counts()"
   ]
  },
  {
   "cell_type": "code",
   "execution_count": 10,
   "metadata": {},
   "outputs": [],
   "source": [
    "#make smoke dictionary to map string values into boolean (missing value if 'Cannot say')\n",
    "smoke_dct = {'YES': 1, 'NO': 0, 'Cannot say': np.nan}\n",
    "df2['Patient_Smoker'] = df2['Patient_Smoker'].map(smoke_dct)"
   ]
  },
  {
   "cell_type": "code",
   "execution_count": 11,
   "metadata": {},
   "outputs": [
    {
     "data": {
      "text/plain": [
       "RURAL    8746\n",
       "URBAN    3769\n",
       "Name: Patient_Rural_Urban, dtype: int64"
      ]
     },
     "execution_count": 11,
     "metadata": {},
     "output_type": "execute_result"
    }
   ],
   "source": [
    "df2.Patient_Rural_Urban.value_counts()"
   ]
  },
  {
   "cell_type": "code",
   "execution_count": 12,
   "metadata": {},
   "outputs": [],
   "source": [
    "#make dummy variables for rural/urban column\n",
    "rural_urban = df2.Patient_Rural_Urban.str.get_dummies().sum(level=0)\n",
    "df2 = pd.concat([df2, rural_urban], axis = 1)\n",
    "\n",
    "#remove original col\n",
    "df2.drop('Patient_Rural_Urban', 1, inplace=True)"
   ]
  },
  {
   "cell_type": "code",
   "execution_count": 13,
   "metadata": {},
   "outputs": [
    {
     "data": {
      "text/plain": [
       "Stable    12515\n",
       "Name: Patient_mental_condition, dtype: int64"
      ]
     },
     "execution_count": 13,
     "metadata": {},
     "output_type": "execute_result"
    }
   ],
   "source": [
    "df2.Patient_mental_condition.value_counts()"
   ]
  },
  {
   "cell_type": "code",
   "execution_count": 14,
   "metadata": {},
   "outputs": [],
   "source": [
    "#remove mental stability for now because it's all t\n",
    "df2.drop('Patient_mental_condition', 1, inplace=True)"
   ]
  },
  {
   "cell_type": "code",
   "execution_count": 15,
   "metadata": {},
   "outputs": [],
   "source": [
    "#rename column for later to easily merge on same key as df1 (because df1 has all patient ids, mising data in df2/df3)\n",
    "df2.rename(columns = {'Patient_ID' : 'ID_Patient'}, inplace = True)"
   ]
  },
  {
   "cell_type": "code",
   "execution_count": 16,
   "metadata": {},
   "outputs": [
    {
     "data": {
      "text/plain": [
       "ID_Patient                  0\n",
       "Patient_Age                 0\n",
       "Patient_Body_Mass_Index     0\n",
       "Patient_Smoker             15\n",
       "RURAL                       0\n",
       "URBAN                       0\n",
       "dtype: int64"
      ]
     },
     "execution_count": 16,
     "metadata": {},
     "output_type": "execute_result"
    }
   ],
   "source": [
    "#check if there is missing values\n",
    "df2.isnull().sum()"
   ]
  },
  {
   "cell_type": "markdown",
   "metadata": {},
   "source": [
    "### Patient_Previous_Conditions"
   ]
  },
  {
   "cell_type": "code",
   "execution_count": 17,
   "metadata": {},
   "outputs": [],
   "source": [
    "#add dummies for previous condition \n",
    "prevcond = df3.Previous_Condition.str.get_dummies().sum(level=0)\n",
    "df3 = pd.concat([df3, prevcond], 1)\n",
    "\n",
    "#remove original variable\n",
    "df3.drop('Previous_Condition', 1, inplace=True)"
   ]
  },
  {
   "cell_type": "code",
   "execution_count": 18,
   "metadata": {},
   "outputs": [],
   "source": [
    "#groupby and sum because some patients have multiple conditions present\n",
    "df3 = df3.groupby('Patient_ID').sum().reset_index()"
   ]
  },
  {
   "cell_type": "code",
   "execution_count": 19,
   "metadata": {},
   "outputs": [],
   "source": [
    "#add feature of how many prev conditions he had\n",
    "df3['Number_of_prev_cond'] = df3[['A', 'B', 'C', 'D', 'E', 'F', 'Z']].sum(axis = 1)"
   ]
  },
  {
   "cell_type": "code",
   "execution_count": 20,
   "metadata": {},
   "outputs": [],
   "source": [
    "#rename column for later to easily merge on same key as df1 (because df1 has all patient ids, mising data in df2/df3)\n",
    "df3.rename(columns = {'Patient_ID' : 'ID_Patient'}, inplace = True)"
   ]
  },
  {
   "cell_type": "markdown",
   "metadata": {},
   "source": [
    "# 3. Make basetable"
   ]
  },
  {
   "cell_type": "code",
   "execution_count": 21,
   "metadata": {},
   "outputs": [],
   "source": [
    "#left join because df1 has the predicted y-value, so pointless to do outer join\n",
    "df = df1.merge(df2, how = 'left', on = 'ID_Patient')\n",
    "df = df.merge(df3, how = 'left', on = 'ID_Patient')"
   ]
  },
  {
   "cell_type": "code",
   "execution_count": 22,
   "metadata": {},
   "outputs": [],
   "source": [
    "#if no previous conditions, put values to zero (missing values)\n",
    "df[['A', 'B', 'C', 'D', 'E', 'F', 'Z', 'Number_of_prev_cond']] = df[['A', 'B', 'C', 'D', 'E', 'F', 'Z', 'Number_of_prev_cond']].fillna(0)"
   ]
  },
  {
   "cell_type": "code",
   "execution_count": 23,
   "metadata": {},
   "outputs": [],
   "source": [
    "#reset index\n",
    "df = df.reset_index(drop = True)"
   ]
  },
  {
   "cell_type": "code",
   "execution_count": 24,
   "metadata": {},
   "outputs": [],
   "source": [
    "#LOAD IN 1 GO\n",
    "#(df1, df2, df3) = make_basetable.load_in_training_data()\n",
    "\n",
    "#reload(make_basetable)\n",
    "#df = make_basetable.make_basetable(df1, df2, df3)"
   ]
  },
  {
   "cell_type": "markdown",
   "metadata": {},
   "source": [
    "# 4. EDA"
   ]
  },
  {
   "cell_type": "markdown",
   "metadata": {},
   "source": [
    "### 4.1 Basetable"
   ]
  },
  {
   "cell_type": "markdown",
   "metadata": {},
   "source": [
    "** Q: How much training data do we have **"
   ]
  },
  {
   "cell_type": "code",
   "execution_count": 25,
   "metadata": {},
   "outputs": [
    {
     "data": {
      "text/plain": [
       "32997"
      ]
     },
     "execution_count": 25,
     "metadata": {},
     "output_type": "execute_result"
    }
   ],
   "source": [
    "len(df)"
   ]
  },
  {
   "cell_type": "markdown",
   "metadata": {},
   "source": [
    "**Q: unique patients **"
   ]
  },
  {
   "cell_type": "code",
   "execution_count": 26,
   "metadata": {},
   "outputs": [
    {
     "data": {
      "text/plain": [
       "11651"
      ]
     },
     "execution_count": 26,
     "metadata": {},
     "output_type": "execute_result"
    }
   ],
   "source": [
    "df.ID_Patient.nunique()"
   ]
  },
  {
   "cell_type": "markdown",
   "metadata": {},
   "source": [
    "**Q: how many patients had multiple surgeries**"
   ]
  },
  {
   "cell_type": "code",
   "execution_count": 27,
   "metadata": {},
   "outputs": [
    {
     "data": {
      "text/plain": [
       "9220"
      ]
     },
     "execution_count": 27,
     "metadata": {},
     "output_type": "execute_result"
    }
   ],
   "source": [
    "sub = df.ID_Patient.value_counts() > 1\n",
    "sub[sub].index.nunique()"
   ]
  },
  {
   "cell_type": "markdown",
   "metadata": {},
   "source": [
    "** Q: distribution y **"
   ]
  },
  {
   "cell_type": "code",
   "execution_count": 28,
   "metadata": {},
   "outputs": [
    {
     "data": {
      "text/plain": [
       "1    20862\n",
       "0    12135\n",
       "Name: Survived_1_year, dtype: int64"
      ]
     },
     "execution_count": 28,
     "metadata": {},
     "output_type": "execute_result"
    }
   ],
   "source": [
    "df.Survived_1_year.value_counts()"
   ]
  },
  {
   "cell_type": "markdown",
   "metadata": {},
   "source": [
    "### 4.2:  Patient_Care_Situation"
   ]
  },
  {
   "cell_type": "code",
   "execution_count": 29,
   "metadata": {},
   "outputs": [
    {
     "data": {
      "text/plain": [
       "array([u'Diagnosed_Condition', u'ID_Patient', u'Survived_1_year', u'DX1',\n",
       "       u'DX2', u'DX3', u'DX4', u'DX5', u'DX6', 'Number_of_drugs_taken'],\n",
       "      dtype=object)"
      ]
     },
     "execution_count": 29,
     "metadata": {},
     "output_type": "execute_result"
    }
   ],
   "source": [
    "df1.columns.ravel()"
   ]
  },
  {
   "cell_type": "markdown",
   "metadata": {},
   "source": [
    "**Q: Diagnostics **"
   ]
  },
  {
   "cell_type": "code",
   "execution_count": 30,
   "metadata": {},
   "outputs": [
    {
     "data": {
      "text/plain": [
       "<matplotlib.axes._subplots.AxesSubplot at 0x7f06105e3fd0>"
      ]
     },
     "execution_count": 30,
     "metadata": {},
     "output_type": "execute_result"
    },
    {
     "data": {
      "image/png": "[encoded data removed]",
      "text/plain": [
       "<matplotlib.figure.Figure at 0x7f06153b1cd0>"
      ]
     },
     "metadata": {},
     "output_type": "display_data"
    }
   ],
   "source": [
    "# Check if the problem is not massively skewed\n",
    "sns.countplot('Diagnosed_Condition', data=df)"
   ]
  },
  {
   "cell_type": "markdown",
   "metadata": {},
   "source": [
    "** Drugs **"
   ]
  },
  {
   "cell_type": "code",
   "execution_count": 31,
   "metadata": {},
   "outputs": [
    {
     "data": {
      "text/plain": [
       "1    25597\n",
       "2     5912\n",
       "3     1325\n",
       "4      143\n",
       "0       15\n",
       "5        5\n",
       "Name: Number_of_drugs_taken, dtype: int64"
      ]
     },
     "execution_count": 31,
     "metadata": {},
     "output_type": "execute_result"
    }
   ],
   "source": [
    "df1.Number_of_drugs_taken.value_counts()"
   ]
  },
  {
   "cell_type": "code",
   "execution_count": 32,
   "metadata": {},
   "outputs": [],
   "source": [
    "melt_dx = pd.melt(df, value_vars= ['DX1','DX2','DX3','DX4','DX5','DX6'])"
   ]
  },
  {
   "cell_type": "code",
   "execution_count": 33,
   "metadata": {},
   "outputs": [
    {
     "data": {
      "text/plain": [
       "<seaborn.axisgrid.FacetGrid at 0x7f06153b1f90>"
      ]
     },
     "execution_count": 33,
     "metadata": {},
     "output_type": "execute_result"
    },
    {
     "data": {
      "image/png": "[encoded data removed]",
      "text/plain": [
       "<matplotlib.figure.Figure at 0x7f060fa0ad90>"
      ]
     },
     "metadata": {},
     "output_type": "display_data"
    }
   ],
   "source": [
    "sns.factorplot(x='variable', y='value', data=melt_dx, kind='bar')"
   ]
  },
  {
   "cell_type": "markdown",
   "metadata": {},
   "source": [
    "### 4.3: Patient_Demographics"
   ]
  },
  {
   "cell_type": "code",
   "execution_count": 34,
   "metadata": {},
   "outputs": [
    {
     "data": {
      "text/plain": [
       "array(['ID_Patient', u'Patient_Age', u'Patient_Body_Mass_Index',\n",
       "       u'Patient_Smoker', u'RURAL', u'URBAN'], dtype=object)"
      ]
     },
     "execution_count": 34,
     "metadata": {},
     "output_type": "execute_result"
    }
   ],
   "source": [
    "df2.columns.ravel()"
   ]
  },
  {
   "cell_type": "markdown",
   "metadata": {},
   "source": [
    "**Q: Smoker Distribution**"
   ]
  },
  {
   "cell_type": "code",
   "execution_count": 35,
   "metadata": {},
   "outputs": [
    {
     "data": {
      "text/plain": [
       "<matplotlib.axes._subplots.AxesSubplot at 0x7f060fa3b9d0>"
      ]
     },
     "execution_count": 35,
     "metadata": {},
     "output_type": "execute_result"
    },
    {
     "data": {
      "image/png": "[encoded data removed]",
      "text/plain": [
       "<matplotlib.figure.Figure at 0x7f060fa26750>"
      ]
     },
     "metadata": {},
     "output_type": "display_data"
    }
   ],
   "source": [
    "sns.countplot('Patient_Smoker', data=df2)"
   ]
  },
  {
   "cell_type": "code",
   "execution_count": 36,
   "metadata": {},
   "outputs": [
    {
     "data": {
      "text/plain": [
       "<matplotlib.axes._subplots.AxesSubplot at 0x7f063c75e150>"
      ]
     },
     "execution_count": 36,
     "metadata": {},
     "output_type": "execute_result"
    },
    {
     "data": {
      "image/png": "[encoded data removed]",
      "text/plain": [
       "<matplotlib.figure.Figure at 0x7f060fa3be90>"
      ]
     },
     "metadata": {},
     "output_type": "display_data"
    }
   ],
   "source": [
    "sns.boxplot(data=df2['Patient_Age'])"
   ]
  },
  {
   "cell_type": "code",
   "execution_count": 37,
   "metadata": {},
   "outputs": [
    {
     "data": {
      "text/plain": [
       "<matplotlib.axes._subplots.AxesSubplot at 0x7f060f327f50>"
      ]
     },
     "execution_count": 37,
     "metadata": {},
     "output_type": "execute_result"
    },
    {
     "data": {
      "image/png": "[encoded data removed]",
      "text/plain": [
       "<matplotlib.figure.Figure at 0x7f063caa72d0>"
      ]
     },
     "metadata": {},
     "output_type": "display_data"
    }
   ],
   "source": [
    "sns.boxplot(data=df2['Patient_Body_Mass_Index'])"
   ]
  },
  {
   "cell_type": "code",
   "execution_count": 38,
   "metadata": {},
   "outputs": [
    {
     "name": "stdout",
     "output_type": "stream",
     "text": [
      "8746 RURAL\n",
      "3769 URBAN\n"
     ]
    }
   ],
   "source": [
    "print str(df2.RURAL.sum()) + ' RURAL'\n",
    "print str(df2.URBAN.sum()) + ' URBAN'"
   ]
  },
  {
   "cell_type": "markdown",
   "metadata": {},
   "source": [
    "### 4.4: Previous conditions"
   ]
  },
  {
   "cell_type": "code",
   "execution_count": 39,
   "metadata": {},
   "outputs": [
    {
     "data": {
      "text/plain": [
       "1    5002\n",
       "2    4892\n",
       "3    1671\n",
       "4     224\n",
       "5      19\n",
       "Name: Number_of_prev_cond, dtype: int64"
      ]
     },
     "execution_count": 39,
     "metadata": {},
     "output_type": "execute_result"
    }
   ],
   "source": [
    "df3.Number_of_prev_cond.value_counts()"
   ]
  },
  {
   "cell_type": "code",
   "execution_count": 40,
   "metadata": {},
   "outputs": [],
   "source": [
    "melt_cond = pd.melt(df3, value_vars= ['A','B','C','D','E','F', 'Z'])"
   ]
  },
  {
   "cell_type": "code",
   "execution_count": 41,
   "metadata": {},
   "outputs": [
    {
     "data": {
      "text/plain": [
       "<seaborn.axisgrid.FacetGrid at 0x7f063caae550>"
      ]
     },
     "execution_count": 41,
     "metadata": {},
     "output_type": "execute_result"
    },
    {
     "data": {
      "image/png": "[encoded data removed]",
      "text/plain": [
       "<matplotlib.figure.Figure at 0x7f060f1c8850>"
      ]
     },
     "metadata": {},
     "output_type": "display_data"
    }
   ],
   "source": [
    "sns.factorplot(x='variable', y='value', data=melt_cond, kind='bar')"
   ]
  },
  {
   "cell_type": "markdown",
   "metadata": {},
   "source": [
    "# 5. Remove some observations because they have impossible values"
   ]
  },
  {
   "cell_type": "code",
   "execution_count": 42,
   "metadata": {},
   "outputs": [],
   "source": [
    "df = df.loc[df['Patient_Age'] < 100] #this also takes care of very low imposible bmi values"
   ]
  },
  {
   "cell_type": "code",
   "execution_count": 43,
   "metadata": {},
   "outputs": [
    {
     "data": {
      "text/plain": [
       "32982"
      ]
     },
     "execution_count": 43,
     "metadata": {},
     "output_type": "execute_result"
    }
   ],
   "source": [
    "len(df)"
   ]
  },
  {
   "cell_type": "markdown",
   "metadata": {},
   "source": [
    "# 5. Modeling"
   ]
  },
  {
   "cell_type": "code",
   "execution_count": 44,
   "metadata": {},
   "outputs": [],
   "source": [
    "from sklearn.linear_model import LinearRegression\n",
    "from sklearn.model_selection import train_test_split\n",
    "from sklearn.metrics import mean_squared_error\n",
    "from sklearn.metrics import mean_absolute_error\n",
    "from sklearn.preprocessing import PolynomialFeatures\n",
    "from sklearn.linear_model import Ridge, Lasso\n",
    "from sklearn.datasets import make_regression\n",
    "from sklearn.model_selection import learning_curve\n",
    "from sklearn.metrics import r2_score\n",
    "from sklearn.linear_model import LogisticRegression\n",
    "from sklearn.preprocessing import LabelEncoder\n",
    "from sklearn.metrics import confusion_matrix\n",
    "from sklearn.metrics import classification_report\n",
    "from sklearn.metrics import roc_curve, auc\n",
    "from sklearn.ensemble import RandomForestClassifier"
   ]
  },
  {
   "cell_type": "markdown",
   "metadata": {},
   "source": [
    "### Preprocessing"
   ]
  },
  {
   "cell_type": "code",
   "execution_count": 45,
   "metadata": {},
   "outputs": [],
   "source": [
    "#LOAD IN 1 GO\n",
    "reload(make_basetable)\n",
    "(df1, df2, df3) = make_basetable.load_in_training_data()\n",
    "df = make_basetable.make_basetable(df1, df2, df3)\n",
    "\n",
    "#remove bad observations\n",
    "df = df.loc[df['Patient_Age'] < 100] #this also takes care of very low imposible bmi values\n",
    "\n",
    "#remove patient id\n",
    "df.drop([\"ID_Patient\"], axis=1, inplace=True)"
   ]
  },
  {
   "cell_type": "code",
   "execution_count": 46,
   "metadata": {},
   "outputs": [],
   "source": [
    "X = df.drop([\"Survived_1_year\"], axis=1)\n",
    "y = df['Survived_1_year'].values.tolist()"
   ]
  },
  {
   "cell_type": "code",
   "execution_count": 47,
   "metadata": {},
   "outputs": [],
   "source": [
    "# Split the data into test and training (30% for test)\n",
    "X_train, X_test, Y_train, Y_test = train_test_split(X, \n",
    "                                                    y, \n",
    "                                                    test_size=0.3, \n",
    "                                                    random_state = 123)"
   ]
  },
  {
   "cell_type": "markdown",
   "metadata": {},
   "source": [
    "# Quickly check some models performance"
   ]
  },
  {
   "cell_type": "markdown",
   "metadata": {},
   "source": [
    "### Logistic Regression"
   ]
  },
  {
   "cell_type": "code",
   "execution_count": 48,
   "metadata": {},
   "outputs": [
    {
     "name": "stdout",
     "output_type": "stream",
     "text": [
      "- TRAIN Accuracy is: 73.16\n",
      "- TEST Accuracy is: 72.91\n"
     ]
    }
   ],
   "source": [
    "lr = make_model.train_classifier_output_print_results(X_train, Y_train, X_test, Y_test, LogisticRegression())"
   ]
  },
  {
   "cell_type": "markdown",
   "metadata": {},
   "source": [
    "### Random Forest"
   ]
  },
  {
   "cell_type": "code",
   "execution_count": 49,
   "metadata": {},
   "outputs": [
    {
     "name": "stdout",
     "output_type": "stream",
     "text": [
      "- TRAIN Accuracy is: 98.89\n",
      "- TEST Accuracy is: 80.84\n"
     ]
    }
   ],
   "source": [
    "rf = make_model.train_classifier_output_print_results(X_train, Y_train, X_test, Y_test, RandomForestClassifier())"
   ]
  },
  {
   "cell_type": "markdown",
   "metadata": {},
   "source": [
    "### XG Boost"
   ]
  },
  {
   "cell_type": "code",
   "execution_count": 50,
   "metadata": {},
   "outputs": [
    {
     "name": "stdout",
     "output_type": "stream",
     "text": [
      "- TRAIN Accuracy is: 98.9\n",
      "- TEST Accuracy is: 80.2\n"
     ]
    }
   ],
   "source": [
    "xg = make_model.train_classifier_output_print_results(X_train, Y_train, X_test, Y_test, RandomForestClassifier())"
   ]
  },
  {
   "cell_type": "markdown",
   "metadata": {},
   "source": [
    "RF and XGBOOST are overfitting on train set, but performance is quite higher than logistic regression so i'll just go with random forest... no time :)"
   ]
  },
  {
   "cell_type": "markdown",
   "metadata": {},
   "source": [
    "## Random Forest - FINAL CLASSIFIER"
   ]
  },
  {
   "cell_type": "markdown",
   "metadata": {},
   "source": [
    "### Train Classifier"
   ]
  },
  {
   "cell_type": "code",
   "execution_count": 51,
   "metadata": {},
   "outputs": [],
   "source": [
    "#train rf classifier\n",
    "rf = RandomForestClassifier(n_estimators=100)\n",
    "\n",
    "# Train the classifier using the train data\n",
    "rf = rf.fit(X_train, Y_train)"
   ]
  },
  {
   "cell_type": "markdown",
   "metadata": {},
   "source": [
    "### Variable Importance"
   ]
  },
  {
   "cell_type": "code",
   "execution_count": 52,
   "metadata": {},
   "outputs": [
    {
     "name": "stdout",
     "output_type": "stream",
     "text": [
      "name                          score\n",
      "Patient_Body_Mass_Index  0.253563\n",
      "Diagnosed_Condition      0.196402\n",
      "Patient_Age              0.162169\n",
      "DX6                      0.0820996\n",
      "Patient_Smoker           0.0705058\n",
      "Number_of_prev_cond      0.0338711\n",
      "A                        0.0233764\n",
      "DX5                      0.0218622\n",
      "D                        0.0208496\n",
      "Number_of_drugs_taken    0.0153911\n",
      "E                        0.0142087\n",
      "C                        0.0136336\n",
      "DX1                      0.0132875\n",
      "B                        0.0128049\n",
      "DX3                      0.0124366\n",
      "DX4                      0.0123487\n",
      "RURAL                    0.0123167\n",
      "URBAN                    0.01165\n",
      "DX2                      0.0114014\n",
      "F                        0.00582316\n",
      "Z                        0\n"
     ]
    }
   ],
   "source": [
    "#Check variable importances\n",
    "from tabulate import tabulate\n",
    "\n",
    "headers = [\"name\", \"score\"]\n",
    "values = sorted(zip(X_train.columns, rf.feature_importances_), key=lambda x: x[1] * -1)\n",
    "print(tabulate(values, headers, tablefmt=\"plain\"))"
   ]
  },
  {
   "cell_type": "code",
   "execution_count": 53,
   "metadata": {},
   "outputs": [],
   "source": [
    "#make predictions\n",
    "y_pred = rf.predict(X_test)\n",
    "y_probs = rf.predict_proba(X_test)"
   ]
  },
  {
   "cell_type": "markdown",
   "metadata": {},
   "source": [
    "### Evaluation on test set"
   ]
  },
  {
   "cell_type": "code",
   "execution_count": 54,
   "metadata": {},
   "outputs": [
    {
     "name": "stdout",
     "output_type": "stream",
     "text": [
      "- Accuracy is: 81.85% \n",
      "\n",
      "Confusion Matrix:\n",
      "-----------------\n"
     ]
    },
    {
     "data": {
      "image/png": "[encoded data removed]",
      "text/plain": [
       "<matplotlib.figure.Figure at 0x7f060f6bb210>"
      ]
     },
     "metadata": {},
     "output_type": "display_data"
    },
    {
     "data": {
      "image/png": "[encoded data removed]",
      "text/plain": [
       "<matplotlib.figure.Figure at 0x7f060f1f0a50>"
      ]
     },
     "metadata": {},
     "output_type": "display_data"
    },
    {
     "name": "stdout",
     "output_type": "stream",
     "text": [
      "Confusion Matrix Numbers and Rates:\n",
      "-----------------------------------\n",
      "TP: 5453\n",
      "FN: 753\n",
      "TN: 2646\n",
      "FP: 1043\n",
      "TPR: 87.87 %\n",
      "FNR: 12.13 %\n",
      "TNR: 71.73 %\n",
      "FPR: 28.27 % \n",
      "\n",
      "Precision, Recall and F1-score:\n",
      "-------------------------------\n",
      "             precision    recall  f1-score   support\n",
      "\n",
      "          0       0.78      0.72      0.75      3689\n",
      "          1       0.84      0.88      0.86      6206\n",
      "\n",
      "avg / total       0.82      0.82      0.82      9895\n",
      "\n",
      "ROC-Curve:\n",
      "----------\n",
      "\n"
     ]
    },
    {
     "data": {
      "image/png": "[encoded data removed]",
      "text/plain": [
       "<matplotlib.figure.Figure at 0x7f06374f11d0>"
      ]
     },
     "metadata": {},
     "output_type": "display_data"
    }
   ],
   "source": [
    "dct = evaluation_model.evaluate_supervised_learning_model_classification(Y_test, y_pred, y_probs, class_names = None)"
   ]
  },
  {
   "cell_type": "markdown",
   "metadata": {},
   "source": [
    "# Check where model failed"
   ]
  },
  {
   "cell_type": "code",
   "execution_count": 55,
   "metadata": {},
   "outputs": [],
   "source": [
    "x = X_test.copy()\n",
    "y = Y_test\n",
    "obs_to_plot = dct['class_wrong'].copy()\n",
    "features = ['Patient_Body_Mass_Index', 'Patient_Age']"
   ]
  },
  {
   "cell_type": "code",
   "execution_count": 56,
   "metadata": {},
   "outputs": [
    {
     "data": {
      "image/png": "[encoded data removed]",
      "text/plain": [
       "<matplotlib.figure.Figure at 0x7f060f7ebd50>"
      ]
     },
     "metadata": {},
     "output_type": "display_data"
    }
   ],
   "source": [
    "import evaluation_model\n",
    "reload(evaluation_model)\n",
    "evaluation_model.plot_label_with_two_numerical_features(x, y, features, y_labels = None, \n",
    "                                       obs_to_plot = obs_to_plot,\n",
    "                                      plot_both = False)"
   ]
  },
  {
   "cell_type": "markdown",
   "metadata": {},
   "source": [
    "# 6. Run classifier on Validation set"
   ]
  },
  {
   "cell_type": "code",
   "execution_count": 57,
   "metadata": {},
   "outputs": [
    {
     "data": {
      "text/plain": [
       "Index([    u'Diagnosed_Condition',         u'Survived_1_year',\n",
       "                           u'DX1',                     u'DX2',\n",
       "                           u'DX3',                     u'DX4',\n",
       "                           u'DX5',                     u'DX6',\n",
       "         u'Number_of_drugs_taken',             u'Patient_Age',\n",
       "       u'Patient_Body_Mass_Index',          u'Patient_Smoker',\n",
       "                         u'RURAL',                   u'URBAN',\n",
       "                             u'A',                       u'B',\n",
       "                             u'C',                       u'D',\n",
       "                             u'E',                       u'F',\n",
       "                             u'Z',     u'Number_of_prev_cond'],\n",
       "      dtype='object')"
      ]
     },
     "execution_count": 57,
     "metadata": {},
     "output_type": "execute_result"
    }
   ],
   "source": [
    "df.columns"
   ]
  },
  {
   "cell_type": "code",
   "execution_count": 60,
   "metadata": {},
   "outputs": [],
   "source": [
    "df_val = pd.read_csv('../data/Validation.csv')"
   ]
  },
  {
   "cell_type": "code",
   "execution_count": 61,
   "metadata": {},
   "outputs": [],
   "source": [
    "#remove care situation variable because it's meaningless (it has no time indiciation)\n",
    "df_val.drop('ID_Patient_Care_Situation', 1, inplace=True)\n",
    "\n",
    "#remove trailing and leading blanks from string column\n",
    "df_val['Treated_with_drugs'] = df_val['Treated_with_drugs'].str.strip()\n",
    "\n",
    "#put na to empty string\n",
    "df_val['Treated_with_drugs'] = df_val['Treated_with_drugs'].replace(np.nan, '', regex=True)\n",
    "\n",
    "#split each drug into distinct columns and make dummies for each drug\n",
    "drugs = df_val['Treated_with_drugs'].str.split(' ',expand=True).stack().str.get_dummies().sum(level=0)\n",
    "\n",
    "#concat horizontally\n",
    "df_val = pd.concat([df_val, drugs], axis = 1)\n",
    "\n",
    "#remove original col\n",
    "df_val.drop('Treated_with_drugs', 1, inplace=True)\n",
    "\n",
    "#make feature: number of drugs taken\n",
    "df_val['Number_of_drugs_taken'] = df_val[['DX1', 'DX2', 'DX4', 'DX5', 'DX6']].sum(axis = 1)\n",
    "\n",
    "#make smoke dictionary to map string values into boolean (missing value if 'Cannot say')\n",
    "smoke_dct = {'YES': 1, 'NO': 0, 'Cannot say': np.nan}\n",
    "df_val['Patient_Smoker'] = df_val['Patient_Smoker'].map(smoke_dct)\n",
    "\n",
    "\n",
    "#make dummy variables for rural/urban column\n",
    "rural_urban = df_val.Patient_Rural_Urban.str.get_dummies().sum(level=0)\n",
    "df_val = pd.concat([df_val, rural_urban], axis = 1)\n",
    "\n",
    "#remove original col\n",
    "df_val.drop('Patient_Rural_Urban', 1, inplace=True)\n",
    "\n",
    "#remove mental stability for now because it's all t\n",
    "df_val.drop('Patient_mental_condition', 1, inplace=True)\n",
    "\n",
    "#rename column for later to easily merge on same key as df1 (because df1 has all patient ids, mising data in df2/df3)\n",
    "df_val.rename(columns = {'Patient_ID' : 'ID_Patient'}, inplace = True)\n",
    "\n",
    "df_val[['A','C','D','E','F']] = df_val.Previous_Condition.str.get_dummies().sum(level=0)\n",
    "df_val['B'] = 0\n",
    "df_val['Z'] = 0\n",
    "df_val['DX3'] = 0\n",
    "\n",
    "#add feature of how many prev conditions he had\n",
    "df_val['Number_of_prev_cond'] = df_val[['A', 'B', 'C', 'D', 'E', 'F', 'Z']].sum(axis = 1)\n",
    "\n",
    "#if no previous conditions, put values to zero (missing values)\n",
    "df_val[['A', 'B', 'C', 'D', 'E', 'F', 'Z', 'Number_of_prev_cond']] = df_val[['A', 'B', 'C', 'D', 'E', 'F', 'Z', 'Number_of_prev_cond']].fillna(0)"
   ]
  },
  {
   "cell_type": "code",
   "execution_count": 62,
   "metadata": {},
   "outputs": [],
   "source": [
    "#remove patient id\n",
    "df_val.drop([\"ID_Patient\"], axis=1, inplace=True)"
   ]
  },
  {
   "cell_type": "code",
   "execution_count": 66,
   "metadata": {},
   "outputs": [],
   "source": [
    "df_val.drop([\"Previous_Condition\"], axis=1, inplace=True)"
   ]
  },
  {
   "cell_type": "code",
   "execution_count": 69,
   "metadata": {},
   "outputs": [
    {
     "data": {
      "text/plain": [
       "array([0, 1, 1, 0, 0, 0, 0, 0, 0, 0, 1, 1, 1, 1, 0])"
      ]
     },
     "execution_count": 69,
     "metadata": {},
     "output_type": "execute_result"
    }
   ],
   "source": [
    "rf.predict(df_val)"
   ]
  },
  {
   "cell_type": "code",
   "execution_count": null,
   "metadata": {},
   "outputs": [],
   "source": []
  }
 ],
 "metadata": {
  "kernelspec": {
   "display_name": "Python 2",
   "language": "python",
   "name": "python2"
  },
  "language_info": {
   "codemirror_mode": {
    "name": "ipython",
    "version": 2
   },
   "file_extension": ".py",
   "mimetype": "text/x-python",
   "name": "python",
   "nbconvert_exporter": "python",
   "pygments_lexer": "ipython2",
   "version": "2.7.14"
  }
 },
 "nbformat": 4,
 "nbformat_minor": 2
}
